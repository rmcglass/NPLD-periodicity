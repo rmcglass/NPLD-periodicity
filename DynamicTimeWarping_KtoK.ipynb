{
 "cells": [
  {
   "cell_type": "code",
   "execution_count": 1,
   "metadata": {},
   "outputs": [],
   "source": [
    "## Tunes depth profiles of Korolev to each other using dynamic time warping algorithm\n",
    "## Depth profiles should be .csv files located in ./korolev\n",
    "## Plots tunings and computes cross-correlation\n",
    "## Tests XC value against XC's from tunings to random profiles"
   ]
  },
  {
   "cell_type": "code",
   "execution_count": 2,
   "metadata": {},
   "outputs": [],
   "source": [
    "#Import packages\n",
    "import numpy as np\n",
    "import matplotlib.pyplot as plt\n",
    "import pandas as pd\n",
    "import glob\n",
    "from radarfuncs import *\n",
    "from DTWfuncs import *\n",
    "from lmfit.models import SkewedGaussianModel"
   ]
  },
  {
   "cell_type": "code",
   "execution_count": null,
   "metadata": {},
   "outputs": [],
   "source": [
    "#Import csv files\n",
    "csv_import = glob.glob(\"korolev/*zoom.csv\")\n",
    "\n",
    "column_names = ['depth', 'value']\n",
    "csv_list = []\n",
    "x_list = []\n",
    "y_list = []\n",
    "fit_list = []\n",
    "\n",
    "#load data and put into lists\n",
    "for i in csv_import:\n",
    "    csv = pd.read_csv(i, names=column_names, skiprows=2) #skips headers\n",
    "    csv_list.append(csv)\n",
    "    \n",
    "    x = csv.depth.to_list()\n",
    "    y = csv.value.to_list()\n",
    "    \n",
    "    peak = y.index(max(y[0:50])) #finds surface return\n",
    "    \n",
    "    x = x[peak:]\n",
    "    y = y[peak:]\n",
    "    \n",
    "    #convert pixels to meters\n",
    "    x = p2m_waterice(x)\n",
    "    \n",
    "    x_list.append(x)\n",
    "    y_list.append(y)\n",
    "    \n",
    "    ##compute line to fit synthetic data to\n",
    "    # Skewed Gaussian fit\n",
    "    model = SkewedGaussianModel()\n",
    "    params = model.make_params(amplitude=(max(y)), center=min(x)+20, sigma=20, gamma=1.5)\n",
    "    result = model.fit(y, params, x=x)\n",
    "    fit = result.best_fit +np.mean(y[-150:]) # prevents fit from damping out all of the noise on right-handed side\n",
    "    \n",
    "    fit_list.append(fit)\n",
    "\n",
    "#Use DTW to tune each profile to the other profiles\n",
    "#plot results, produce XC\n",
    "\n",
    "#Run MonteCarlo simulation to assess quality of tunings\n",
    "#A strong match is when real XC is nigher than 90% of all XCs from tunings to random profiles\n"
   ]
  }
 ],
 "metadata": {
  "kernelspec": {
   "display_name": "Python 3",
   "language": "python",
   "name": "python3"
  },
  "language_info": {
   "codemirror_mode": {
    "name": "ipython",
    "version": 3
   },
   "file_extension": ".py",
   "mimetype": "text/x-python",
   "name": "python",
   "nbconvert_exporter": "python",
   "pygments_lexer": "ipython3",
   "version": "3.8.3"
  }
 },
 "nbformat": 4,
 "nbformat_minor": 4
}
