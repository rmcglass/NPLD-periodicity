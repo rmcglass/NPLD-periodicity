{
 "cells": [
  {
   "cell_type": "code",
   "execution_count": 1,
   "metadata": {},
   "outputs": [],
   "source": [
    "## Tunes depth profiles of Korolev to each other using dynamic time warping algorithm\n",
    "## Depth profiles should be .csv files located in ./korolev\n",
    "## Plots tunings and computes cross-correlation\n",
    "## Tests XC value against XC's from tunings to random profiles"
   ]
  },
  {
   "cell_type": "code",
   "execution_count": 2,
   "metadata": {},
   "outputs": [],
   "source": [
    "#Import packages\n",
    "import numpy as np\n",
    "import matplotlib.pyplot as plt\n",
    "plt.rcParams.update({'figure.max_open_warning': 0})\n",
    "import pandas as pd\n",
    "import glob\n",
    "from radarfuncs import *\n",
    "from DTWfuncs import *\n",
    "from lmfit.models import SkewedGaussianModel"
   ]
  },
  {
   "cell_type": "code",
   "execution_count": 3,
   "metadata": {},
   "outputs": [
    {
     "name": "stdout",
     "output_type": "stream",
     "text": [
      "['korolev/S_02186601_1zoom.csv', 'korolev/S_04051801_2zoom.csv', 'korolev/S_00554201_3zoom.csv', 'korolev/S_00883101_4zoom.csv', 'korolev/S_01690101_5zoom.csv']\n"
     ]
    }
   ],
   "source": [
    "#Import csv files\n",
    "csv_import = glob.glob(\"korolev/*zoom.csv\")\n",
    "csv_import = sorted(csv_import, key=lambda x: x[-9])\n",
    "\n",
    "column_names = ['depth', 'value']\n",
    "x_list = []\n",
    "y_list = []\n",
    "fit_list = []\n",
    "\n",
    "#load data and put into lists\n",
    "for i in csv_import:\n",
    "    csv = pd.read_csv(i, names=column_names, skiprows=2) #skips headers\n",
    "    \n",
    "    x = csv.depth.to_list()\n",
    "    y = csv.value.to_list()\n",
    "    \n",
    "    peak = y.index(max(y[0:50])) #finds surface return\n",
    "    \n",
    "    x = x[peak+5:]\n",
    "    y = y[peak+5:]\n",
    "    \n",
    "    #convert pixels to meters\n",
    "    #x = p2m_waterice(x)\n",
    "    \n",
    "    x_list.append(x)\n",
    "    y_list.append(y)\n",
    "    \n",
    "    ##compute line to fit synthetic data to\n",
    "    # Skewed Gaussian fit\n",
    "    model = SkewedGaussianModel()\n",
    "    params = model.make_params(amplitude=(max(y)), center=min(x)+20, sigma=20, gamma=1.5)\n",
    "    result = model.fit(y, params, x=x)\n",
    "    fit = result.best_fit +np.mean(y[-150:]) # prevents fit from damping out all of the noise on right-handed side\n",
    "    \n",
    "    fit_list.append(fit)\n",
    "    \n",
    "print(csv_import)\n"
   ]
  },
  {
   "cell_type": "code",
   "execution_count": 6,
   "metadata": {
    "scrolled": false
   },
   "outputs": [
    {
     "ename": "KeyboardInterrupt",
     "evalue": "",
     "output_type": "error",
     "traceback": [
      "\u001b[0;31m---------------------------------------------------------------------------\u001b[0m",
      "\u001b[0;31mKeyboardInterrupt\u001b[0m                         Traceback (most recent call last)",
      "\u001b[0;32m<ipython-input-6-c62ecbe37dd4>\u001b[0m in \u001b[0;36m<module>\u001b[0;34m\u001b[0m\n\u001b[1;32m     29\u001b[0m             \u001b[0mr\u001b[0m\u001b[0;34m=\u001b[0m\u001b[0mar1\u001b[0m\u001b[0;34m(\u001b[0m\u001b[0md1\u001b[0m\u001b[0;34m,\u001b[0m\u001b[0mv1\u001b[0m\u001b[0;34m,\u001b[0m\u001b[0mfit\u001b[0m\u001b[0;34m)\u001b[0m \u001b[0;31m#this creates a random synthetic record with similar properties\u001b[0m\u001b[0;34m\u001b[0m\u001b[0;34m\u001b[0m\u001b[0m\n\u001b[1;32m     30\u001b[0m             \u001b[0msyn\u001b[0m\u001b[0;34m.\u001b[0m\u001b[0mappend\u001b[0m\u001b[0;34m(\u001b[0m\u001b[0mr\u001b[0m\u001b[0;34m)\u001b[0m\u001b[0;34m\u001b[0m\u001b[0;34m\u001b[0m\u001b[0m\n\u001b[0;32m---> 31\u001b[0;31m             \u001b[0mxtune_r\u001b[0m\u001b[0;34m,\u001b[0m \u001b[0mXC_r\u001b[0m\u001b[0;34m,\u001b[0m \u001b[0mtstd_r\u001b[0m\u001b[0;34m,\u001b[0m \u001b[0mdt_r\u001b[0m\u001b[0;34m,\u001b[0m \u001b[0mW_r\u001b[0m\u001b[0;34m,\u001b[0m \u001b[0mD_r\u001b[0m\u001b[0;34m,\u001b[0m \u001b[0mtx_r\u001b[0m \u001b[0;34m=\u001b[0m \u001b[0mdtw_mars\u001b[0m\u001b[0;34m(\u001b[0m\u001b[0mv1\u001b[0m\u001b[0;34m,\u001b[0m\u001b[0mr\u001b[0m\u001b[0;34m)\u001b[0m\u001b[0;34m\u001b[0m\u001b[0;34m\u001b[0m\u001b[0m\n\u001b[0m\u001b[1;32m     32\u001b[0m             \u001b[0mXC_rs\u001b[0m\u001b[0;34m.\u001b[0m\u001b[0mappend\u001b[0m\u001b[0;34m(\u001b[0m\u001b[0mXC_r\u001b[0m\u001b[0;34m)\u001b[0m\u001b[0;34m\u001b[0m\u001b[0;34m\u001b[0m\u001b[0m\n\u001b[1;32m     33\u001b[0m             \u001b[0;31m#W_rs.append(W_r)\u001b[0m\u001b[0;34m\u001b[0m\u001b[0;34m\u001b[0m\u001b[0;34m\u001b[0m\u001b[0m\n",
      "\u001b[0;32m~/jupyternbs/NPLD FFT/DTWfuncs.py\u001b[0m in \u001b[0;36mdtw_mars\u001b[0;34m(y, x)\u001b[0m\n\u001b[1;32m    146\u001b[0m     \u001b[0;32mfor\u001b[0m \u001b[0mn\u001b[0m \u001b[0;32min\u001b[0m \u001b[0mrange\u001b[0m\u001b[0;34m(\u001b[0m\u001b[0;36m1\u001b[0m\u001b[0;34m,\u001b[0m\u001b[0mN\u001b[0m\u001b[0;34m)\u001b[0m\u001b[0;34m:\u001b[0m\u001b[0;34m\u001b[0m\u001b[0;34m\u001b[0m\u001b[0m\n\u001b[1;32m    147\u001b[0m         \u001b[0;32mfor\u001b[0m \u001b[0mm\u001b[0m \u001b[0;32min\u001b[0m \u001b[0mrange\u001b[0m\u001b[0;34m(\u001b[0m\u001b[0;36m1\u001b[0m\u001b[0;34m,\u001b[0m\u001b[0mM\u001b[0m\u001b[0;34m)\u001b[0m\u001b[0;34m:\u001b[0m\u001b[0;34m\u001b[0m\u001b[0;34m\u001b[0m\u001b[0m\n\u001b[0;32m--> 148\u001b[0;31m             \u001b[0mD\u001b[0m\u001b[0;34m[\u001b[0m\u001b[0mn\u001b[0m\u001b[0;34m,\u001b[0m\u001b[0mm\u001b[0m\u001b[0;34m]\u001b[0m \u001b[0;34m=\u001b[0m \u001b[0md\u001b[0m\u001b[0;34m[\u001b[0m\u001b[0mn\u001b[0m\u001b[0;34m,\u001b[0m\u001b[0mm\u001b[0m\u001b[0;34m]\u001b[0m\u001b[0;34m+\u001b[0m \u001b[0mmin\u001b[0m\u001b[0;34m(\u001b[0m\u001b[0mD\u001b[0m\u001b[0;34m[\u001b[0m\u001b[0mn\u001b[0m\u001b[0;34m-\u001b[0m\u001b[0;36m1\u001b[0m\u001b[0;34m,\u001b[0m\u001b[0mm\u001b[0m\u001b[0;34m-\u001b[0m\u001b[0;36m1\u001b[0m\u001b[0;34m]\u001b[0m\u001b[0;34m,\u001b[0m \u001b[0mg\u001b[0m\u001b[0;34m*\u001b[0m\u001b[0mD\u001b[0m\u001b[0;34m[\u001b[0m\u001b[0mn\u001b[0m\u001b[0;34m-\u001b[0m\u001b[0;36m1\u001b[0m\u001b[0;34m,\u001b[0m\u001b[0mm\u001b[0m\u001b[0;34m]\u001b[0m\u001b[0;34m,\u001b[0m \u001b[0mg\u001b[0m\u001b[0;34m*\u001b[0m\u001b[0mD\u001b[0m\u001b[0;34m[\u001b[0m\u001b[0mn\u001b[0m\u001b[0;34m,\u001b[0m\u001b[0mm\u001b[0m\u001b[0;34m-\u001b[0m\u001b[0;36m1\u001b[0m\u001b[0;34m]\u001b[0m\u001b[0;34m)\u001b[0m\u001b[0;34m\u001b[0m\u001b[0;34m\u001b[0m\u001b[0m\n\u001b[0m\u001b[1;32m    149\u001b[0m \u001b[0;34m\u001b[0m\u001b[0m\n\u001b[1;32m    150\u001b[0m \u001b[0;34m\u001b[0m\u001b[0m\n",
      "\u001b[0;31mKeyboardInterrupt\u001b[0m: "
     ]
    }
   ],
   "source": [
    "#Use DTW to tune each profile to the other profiles\n",
    "#plot results, produce XC\n",
    "\n",
    "#for i in range(1):\n",
    "for i in range(len(csv_import)):\n",
    "    prof1 = csv_import[i]\n",
    "    d1 = x_list[i]\n",
    "    v1 = y_list[i]\n",
    "    fit = fit_list[i]\n",
    "    \n",
    "    #for j in range(1):\n",
    "    for j in range(len(csv_import)):\n",
    "        prof2 = csv_import[j]\n",
    "        d2 = x_list[j]\n",
    "        v2 = y_list[j]\n",
    "             \n",
    "        xtune, XC, tstd, dt, W, D, tx = dtw_mars(v1,v2)\n",
    "        #print(W)\n",
    "        #np.savetxt('cost_'+str(i)+str(j)+'.csv', D, delimiter=',')\n",
    "        \n",
    "        #Run MonteCarlo simulation to assess quality of tunings\n",
    "        #A strong match is when real XC is nigher than 90% of all XCs from tunings to random profiles\n",
    "\n",
    "        XC_rs = [] #holds cross correlation values for 1000 random profiles\n",
    "        syn = []\n",
    "        #W_rs = []\n",
    "        \n",
    "        for a in range(1000):\n",
    "            r=ar1(d1,v1,fit) #this creates a random synthetic record with similar properties\n",
    "            syn.append(r)\n",
    "            xtune_r, XC_r, tstd_r, dt_r, W_r, D_r, tx_r = dtw_mars(v1,r)\n",
    "            XC_rs.append(XC_r)\n",
    "            #W_rs.append(W_r)\n",
    "        \n",
    "        # Set up the axes with gridspec\n",
    "        fig = plt.figure(figsize=(13,6))\n",
    "        grid = plt.GridSpec(5, 10, hspace=0.4, wspace=0.7)\n",
    "        main = fig.add_subplot(grid[:-1, 1:5])\n",
    "        y_prof = fig.add_subplot(grid[:-1, 0], xticklabels=[], sharey=main)\n",
    "        x_prof = fig.add_subplot(grid[-1, 1:5], yticklabels=[], sharex=main)\n",
    "        hist = fig.add_subplot(grid[:-1,6:])\n",
    "        x_tune = fig.add_subplot(grid[-1, 6:], yticklabels=[], sharex=main)\n",
    "        \n",
    "        # DTW min path on main\n",
    "        main.pcolor(D)\n",
    "        main.plot([0,len(v1)-1], [0,len(xtune)-1],'w--', linewidth=2)\n",
    "        main.plot(W[:,1], W[:,0],'k-', linewidth=3)\n",
    "        main.xaxis.tick_top()\n",
    "        main.yaxis.tick_right()\n",
    "\n",
    "        # x profile -- what gets tuned\n",
    "        xax= np.subtract(d2,d2[0])\n",
    "        x_prof.plot(xax, v2)\n",
    "        x_prof.set_xlabel(prof2 + \"\\nDepth (px)\")\n",
    "        x_prof.set_ylabel(\"Radar power\")\n",
    "\n",
    "        #y profile -- fixed\n",
    "        yax = np.subtract(d1,d1[0])\n",
    "        y_prof.plot(np.multiply(-1,v1),yax)\n",
    "        y_prof.set_ylabel(prof1 + \"\\nDepth (px)\")\n",
    "        y_prof.set_xlabel(\"Radar power\")\n",
    "        \n",
    "#         # x profile -- tuned\n",
    "#         xax= np.subtract(tx,tx[0])\n",
    "#         x_tune.plot(xax, xtune)\n",
    "#         x_tune.set_xlabel(prof2 + \"\\nDepth (px)\")\n",
    "#         x_tune.set_ylabel(\"Radar power\")\n",
    "    \n",
    "        # histogram of XC values\n",
    "        hist.hist(XC_rs) #bins = n_bins\n",
    "        hist.set_title(\"Cross-correlation values: n=\"+str(len(XC_rs)))\n",
    "        \n",
    "        print(\"XC of \"+prof1+\" and \"+prof2+\": \"+str(XC))\n",
    "\n"
   ]
  },
  {
   "cell_type": "code",
   "execution_count": null,
   "metadata": {
    "scrolled": true
   },
   "outputs": [],
   "source": [
    "fig = plt.figure(figsize=(13,6))\n",
    "grid = plt.GridSpec(5, 10, hspace=0.4, wspace=0.7)\n",
    "main = fig.add_subplot(grid[:-1, 1:5])\n",
    "y_prof = fig.add_subplot(grid[:-1, 0], xticklabels=[], sharey=main)\n",
    "x_prof = fig.add_subplot(grid[-1, 1:5], yticklabels=[], sharex=main)\n",
    "hist = fig.add_subplot(grid[:-1,6:])"
   ]
  },
  {
   "cell_type": "code",
   "execution_count": null,
   "metadata": {
    "scrolled": true
   },
   "outputs": [],
   "source": []
  }
 ],
 "metadata": {
  "kernelspec": {
   "display_name": "Python 3",
   "language": "python",
   "name": "python3"
  },
  "language_info": {
   "codemirror_mode": {
    "name": "ipython",
    "version": 3
   },
   "file_extension": ".py",
   "mimetype": "text/x-python",
   "name": "python",
   "nbconvert_exporter": "python",
   "pygments_lexer": "ipython3",
   "version": "3.8.3"
  }
 },
 "nbformat": 4,
 "nbformat_minor": 4
}
